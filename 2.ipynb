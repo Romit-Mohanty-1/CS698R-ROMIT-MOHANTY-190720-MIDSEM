{
 "cells": [
  {
   "cell_type": "code",
   "execution_count": 15,
   "source": [
    "!pip install --user --upgrade --editable ms-1"
   ],
   "outputs": [
    {
     "output_type": "stream",
     "name": "stdout",
     "text": [
      "Obtaining file:///X:/Reinforcement%20Learning/CS698R-ROMIT-MOHANTY-190720-MIDSEM/ms-1\n",
      "Requirement already satisfied: gym in c:\\users\\romit\\appdata\\local\\programs\\python\\python39\\lib\\site-packages (from ms-1==1.0.0) (0.19.0)\n",
      "Requirement already satisfied: numpy>=1.18.0 in c:\\users\\romit\\appdata\\local\\programs\\python\\python39\\lib\\site-packages (from gym->ms-1==1.0.0) (1.19.5)\n",
      "Requirement already satisfied: cloudpickle<1.7.0,>=1.2.0 in c:\\users\\romit\\appdata\\local\\programs\\python\\python39\\lib\\site-packages (from gym->ms-1==1.0.0) (1.6.0)\n",
      "Installing collected packages: ms-1\n",
      "  Attempting uninstall: ms-1\n",
      "    Found existing installation: ms-1 1.0.0\n",
      "    Uninstalling ms-1-1.0.0:\n",
      "      Successfully uninstalled ms-1-1.0.0\n",
      "  Running setup.py develop for ms-1\n",
      "Successfully installed ms-1\n"
     ]
    }
   ],
   "metadata": {}
  },
  {
   "cell_type": "code",
   "execution_count": 16,
   "source": [
    "import gym\r\n",
    "import numpy as np\r\n",
    "import math\r\n",
    "import random\r\n",
    "from matplotlib import pyplot as plt\r\n",
    "random.seed(10)\r\n",
    "np.random.seed(10)\r\n",
    "params={}\r\n",
    "params[\"gamma\"]=0.99\r\n",
    "params[\"goInDirection\"]=0.8\r\n",
    "params[\"livingCost\"]=0.04\r\n",
    "params[\"startState\"]=8\r\n",
    "params[\"theta\"]=pow(10,-4)\r\n",
    "params[\"S+\"]=[0,1,2,3,4,6,7,8,9,10,11]\r\n",
    "params[\"S\"]=[0,1,2,4,6,8,9,10,11]\r\n",
    "params[\"A\"]=[0,1,2,3]\r\n",
    "env=gym.make('ms_1:RandomMaze-v0',params=params)\r\n",
    "env.reset()\r\n",
    "done= False\r\n",
    "score=0\r\n",
    "time=0\r\n",
    "while not done:\r\n",
    "# env.render()\r\n",
    "    action =random.choice([0,1,2,3])\r\n",
    "    # action =0\r\n",
    "    curr_state=env.currState()\r\n",
    "    next_state, reward, done, info =env.step(action)\r\n",
    "    score+=reward\r\n",
    "    print('timeStamp:{}  CurrState:{}  Action:{}  NextState:{}  Reward:{}  Score:{}'.format(time,curr_state,action,next_state,reward,score))\r\n",
    "    time+=1"
   ],
   "outputs": [
    {
     "output_type": "stream",
     "name": "stdout",
     "text": [
      "timeStamp:0  CurrState:8  Action:0  NextState:8  Reward:-0.04  Score:-0.04\n",
      "timeStamp:1  CurrState:8  Action:3  NextState:9  Reward:-0.04  Score:-0.08\n",
      "timeStamp:2  CurrState:9  Action:3  NextState:9  Reward:-0.04  Score:-0.12\n",
      "timeStamp:3  CurrState:9  Action:0  NextState:8  Reward:-0.04  Score:-0.16\n",
      "timeStamp:4  CurrState:8  Action:1  NextState:4  Reward:-0.04  Score:-0.2\n",
      "timeStamp:5  CurrState:4  Action:3  NextState:8  Reward:-0.04  Score:-0.24000000000000002\n",
      "timeStamp:6  CurrState:8  Action:3  NextState:8  Reward:-0.04  Score:-0.28\n",
      "timeStamp:7  CurrState:8  Action:2  NextState:9  Reward:-0.04  Score:-0.32\n",
      "timeStamp:8  CurrState:9  Action:1  NextState:10  Reward:-0.04  Score:-0.36\n",
      "timeStamp:9  CurrState:10  Action:0  NextState:10  Reward:-0.04  Score:-0.39999999999999997\n",
      "timeStamp:10  CurrState:10  Action:3  NextState:10  Reward:-0.04  Score:-0.43999999999999995\n",
      "timeStamp:11  CurrState:10  Action:2  NextState:11  Reward:-0.04  Score:-0.4799999999999999\n",
      "timeStamp:12  CurrState:11  Action:0  NextState:11  Reward:-0.04  Score:-0.5199999999999999\n",
      "timeStamp:13  CurrState:11  Action:1  NextState:7  Reward:-1  Score:-1.52\n"
     ]
    }
   ],
   "metadata": {}
  },
  {
   "cell_type": "code",
   "execution_count": 17,
   "source": [
    "# go get it policy\r\n",
    "pi=np.zeros(12)\r\n",
    "pi[0]=2\r\n",
    "pi[1]=2\r\n",
    "pi[2]=2\r\n",
    "pi[3]=10 #taken any random number\r\n",
    "pi[4]=1\r\n",
    "pi[5]=10 #taken any random number\r\n",
    "pi[6]=1\r\n",
    "pi[7]=10 #taken any random number\r\n",
    "pi[8]=1\r\n",
    "pi[9]=2\r\n",
    "pi[10]=1\r\n",
    "pi[11]=0"
   ],
   "outputs": [],
   "metadata": {}
  },
  {
   "cell_type": "code",
   "execution_count": 18,
   "source": [
    "\r\n",
    "\r\n",
    "# creating the dynamics function for our random maze environment\r\n",
    "l=-params[\"livingCost\"]\r\n",
    "# left =0,up=1,right=2,down=3\r\n",
    "P={\r\n",
    "    0:{\r\n",
    "        0: [(0.8, 0, l, False), (0.1, 0, l, False), (0.1, 4, l, False)],\r\n",
    "        1: [(0.8, 0, l, False), (0.1, 0, l, False), (0.1, 1, l, False)],\r\n",
    "        2: [(0.8, 1, l, False), (0.1, 0, l, False), (0.1, 4, l, False)],\r\n",
    "        3: [(0.8, 4, l, False), (0.1, 0, l, False), (0.1, 1, l, False)]\r\n",
    "    },\r\n",
    "    1:{\r\n",
    "        0: [(0.8, 0, l, False), (0.1, 1, l, False), (0.1, 1, l, False)],\r\n",
    "        1: [(0.8, 1, l, False), (0.1, 0, l, False), (0.1, 2, l, False)],\r\n",
    "        2: [(0.8, 2, l, False), (0.1, 1, l, False), (0.1, 1, l, False)],\r\n",
    "        3: [(0.8, 1, l, False), (0.1, 0, l, False), (0.1, 2, l, False)]\r\n",
    "    },\r\n",
    "    2:{\r\n",
    "        0: [(0.8, 1, l, False), (0.1, 2, l, False), (0.1, 6, l, False)],\r\n",
    "        1: [(0.8, 2, l, False), (0.1, 1, l, False), (0.1, 3, 1, True)],\r\n",
    "        2: [(0.8, 3, 1, True), (0.1, 2, l, False), (0.1, 6, l, False)],\r\n",
    "        3: [(0.8, 6, l, False), (0.1, 1, l, False), (0.1, 3, 1, True)]\r\n",
    "    },\r\n",
    "    3:{\r\n",
    "        0: [(1.0, 0, 0.0, True)],\r\n",
    "        1: [(1.0, 0, 0.0, True)],\r\n",
    "        2: [(1.0, 0, 0.0, True)],\r\n",
    "        3: [(1.0, 0, 0.0, True)]\r\n",
    "    },\r\n",
    "    4:{\r\n",
    "        0: [(0.8, 4, l, False), (0.1, 0, l, False), (0.1, 8, l, False)],\r\n",
    "        1: [(0.8, 0, l, False), (0.1, 4, l, False), (0.1, 4, l, False)],\r\n",
    "        2: [(0.8, 4, l, False), (0.1, 0, l, False), (0.1, 8, l, False)],\r\n",
    "        3: [(0.8, 8, l, False), (0.1, 4, l, False), (0.1, 4, l, False)]\r\n",
    "    },\r\n",
    "    6:{\r\n",
    "        0: [(0.8, 6, l, False), (0.1, 2, l, False), (0.1, 10, l, False)],\r\n",
    "        1: [(0.8, 2, l, False), (0.1, 6, l, False), (0.1, 7, -1, True)],\r\n",
    "        2: [(0.8, 7, -1, True), (0.1, 2, l, False), (0.1, 10, l, False)],\r\n",
    "        3: [(0.8, 10, l, False), (0.1, 6, l, False), (0.1, 7, -1, True)]\r\n",
    "    },\r\n",
    "    7:{\r\n",
    "        0: [(1.0, 0, 0.0, True)],\r\n",
    "        1: [(1.0, 0, 0.0, True)],\r\n",
    "        2: [(1.0, 0, 0.0, True)],\r\n",
    "        3: [(1.0, 0, 0.0, True)]\r\n",
    "    },\r\n",
    "    8:{\r\n",
    "        0: [(0.8, 8, l, False), (0.1, 4, l, False), (0.1, 8, l, False)],\r\n",
    "        1: [(0.8, 4, l, False), (0.1, 8, l, False), (0.1, 9, l, False)],\r\n",
    "        2: [(0.8, 9, l, False), (0.1, 4, l, False), (0.1, 8, l, False)],\r\n",
    "        3: [(0.8, 8, l, False), (0.1, 8, l, False), (0.1, 9, l, False)]\r\n",
    "    },\r\n",
    "    9:{\r\n",
    "        0: [(0.8, 8, l, False), (0.1, 9, l, False), (0.1, 9, l, False)],\r\n",
    "        1: [(0.8, 9, l, False), (0.1, 8, l, False), (0.1, 10, l, False)],\r\n",
    "        2: [(0.8, 10, l, False), (0.1, 9, l, False), (0.1, 9, l, False)],\r\n",
    "        3: [(0.8, 9, l, False), (0.1, 8, l, False), (0.1, 10, l, False)]\r\n",
    "    },\r\n",
    "    10:{\r\n",
    "        0: [(0.8, 9, l, False), (0.1, 6, l, False), (0.1, 10, l, False)],\r\n",
    "        1: [(0.8, 6, l, False), (0.1, 9, l, False), (0.1, 11, l, False)],\r\n",
    "        2: [(0.8, 11, l, False), (0.1, 6, l, False), (0.1, 10, l, False)],\r\n",
    "        3: [(0.8, 10, l, False), (0.1, 9, l, False), (0.1, 11, l, False)]\r\n",
    "    },\r\n",
    "    11:{\r\n",
    "        0: [(0.8, 10, l, False), (0.1, 7, -1, True), (0.1, 11, l, False)],\r\n",
    "        1: [(0.8, 7, -1, True), (0.1, 10, l, False), (0.1, 11, l, False)],\r\n",
    "        2: [(0.8, 11, l, False), (0.1, 7, -1, True), (0.1, 11, l, False)],\r\n",
    "        3: [(0.8, 11, l, False), (0.1, 10, l, False), (0.1, 11, l, False)]\r\n",
    "    }\r\n",
    "}\r\n",
    "# p"
   ],
   "outputs": [],
   "metadata": {}
  },
  {
   "cell_type": "code",
   "execution_count": 19,
   "source": [
    "def PolicyEvaluation(P,params,pi):\r\n",
    "    v_old=np.zeros(12)\r\n",
    "    while 1:\r\n",
    "        v_new=np.zeros(12)\r\n",
    "        for s in params[\"S+\"]: \r\n",
    "            for a in params[\"A\"]: \r\n",
    "                temp=0\r\n",
    "                for p,s_next,r,f in P[s][a]: \r\n",
    "                    temp+=p*(r+params[\"gamma\"]*v_old[s_next])\r\n",
    "                # v_new[s]+=(pi[s]==a)*temp\r\n",
    "                if pi[s]==a:\r\n",
    "                    prob_pi=1\r\n",
    "                else:\r\n",
    "                    prob_pi=0\r\n",
    "                v_new[s]+=prob_pi*temp\r\n",
    "        if abs(np.amax(v_new)-np.amax(v_old))<params[\"theta\"]:\r\n",
    "            break\r\n",
    "        else:\r\n",
    "            v_old=v_new\r\n",
    "    return v_new\r\n"
   ],
   "outputs": [],
   "metadata": {}
  },
  {
   "cell_type": "code",
   "execution_count": 20,
   "source": [
    "def PolicyImprovement(v,P,params):\r\n",
    "    Q=np.zeros((12,len(params[\"A\"])))\r\n",
    "    pi=np.zeros(12)\r\n",
    "    for s in params[\"S+\"]:\r\n",
    "        for a in params[\"A\"]:\r\n",
    "            for p,s_next,r,f in P[s][a]:\r\n",
    "                Q[s][a]+=p*(r+params[\"gamma\"]*v[s_next])\r\n",
    "    for s in params[\"S\"]:\r\n",
    "        pi[s]=np.argmax(Q[s])\r\n",
    "    return pi\r\n"
   ],
   "outputs": [],
   "metadata": {}
  },
  {
   "cell_type": "code",
   "execution_count": 38,
   "source": [
    "def PolicyIteration(P,params,pi):\r\n",
    "    itr=0\r\n",
    "    while 1:\r\n",
    "        itr+=1\r\n",
    "        pi_old=pi\r\n",
    "        v=PolicyEvaluation(P,params,pi)\r\n",
    "        pi=PolicyImprovement(v,P,params)\r\n",
    "        if np.all(pi_old==pi):\r\n",
    "            break\r\n",
    "    return v,pi,itr\r\n",
    "v,pi,itr=PolicyIteration(P,params,pi)\r\n",
    "np.random.seed(3)\r\n",
    "print(\"PolicyIteration\")\r\n",
    "print(v)\r\n",
    "print(pi)\r\n",
    "print(itr)"
   ],
   "outputs": [
    {
     "output_type": "stream",
     "name": "stdout",
     "text": [
      "PolicyIteration\n",
      "[16.75969944 17.05431311 17.32027512 16.59200367 16.50072715  0.\n",
      " 16.89696723 16.59200367 16.25181292 16.30713446 16.5636624  16.23188702]\n",
      "[2. 2. 2. 0. 1. 0. 1. 0. 1. 2. 1. 0.]\n",
      "1\n"
     ]
    }
   ],
   "metadata": {}
  },
  {
   "cell_type": "code",
   "execution_count": 37,
   "source": [
    "def ValueIteration(P,params):\r\n",
    "    v=np.zeros(12)\r\n",
    "    itr=0\r\n",
    "    while 1:\r\n",
    "        itr+=1\r\n",
    "        Q=np.zeros((12,4))\r\n",
    "        for s in params[\"S+\"]:\r\n",
    "            for a in params[\"A\"]:\r\n",
    "                for p,s_next,r,f in P[s][a]:\r\n",
    "                    Q[s][a]+=p*(r+params[\"gamma\"]*v[s_next])\r\n",
    "        flag=1\r\n",
    "        for s in params[\"S+\"]:\r\n",
    "            if abs(v[s]-np.amax(Q[s]))<params[\"theta\"]:\r\n",
    "                flag*=1\r\n",
    "            else:\r\n",
    "                flag*=0\r\n",
    "        if flag==1:\r\n",
    "            break\r\n",
    "        for s in params[\"S+\"]:\r\n",
    "            v[s]=np.amax(Q[s])\r\n",
    "        \r\n",
    "        for s in params[\"S\"]:\r\n",
    "            pi[s]=np.argmax(Q[s])\r\n",
    "    return v,pi,itr  \r\n",
    "np.random.seed(3)\r\n",
    "v,pi,itr=ValueIteration(P,params)\r\n",
    "print(\"value\")\r\n",
    "print(v)\r\n",
    "print(pi)\r\n",
    "print(itr)\r\n"
   ],
   "outputs": [
    {
     "output_type": "stream",
     "name": "stdout",
     "text": [
      "value\n",
      "[16.75960122 17.05421489 17.3201769  16.59190545 16.50062893  0.\n",
      " 16.89686901 16.59190545 16.2517147  16.30703625 16.56356418 16.2317888 ]\n",
      "[2. 2. 2. 0. 1. 0. 1. 0. 1. 2. 1. 0.]\n",
      "741\n"
     ]
    }
   ],
   "metadata": {}
  }
 ],
 "metadata": {
  "orig_nbformat": 4,
  "language_info": {
   "name": "python",
   "version": "3.9.5",
   "mimetype": "text/x-python",
   "codemirror_mode": {
    "name": "ipython",
    "version": 3
   },
   "pygments_lexer": "ipython3",
   "nbconvert_exporter": "python",
   "file_extension": ".py"
  },
  "kernelspec": {
   "name": "python3",
   "display_name": "Python 3.9.5 64-bit"
  },
  "interpreter": {
   "hash": "9e8fbf9a983a2b3ad981a2f9c2c427da9bcf0d16346e2ead530ccf2c05c5df6b"
  }
 },
 "nbformat": 4,
 "nbformat_minor": 2
}